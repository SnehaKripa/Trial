{
  "nbformat": 4,
  "nbformat_minor": 0,
  "metadata": {
    "colab": {
      "provenance": []
    },
    "kernelspec": {
      "name": "python3",
      "display_name": "Python 3"
    },
    "language_info": {
      "name": "python"
    }
  },
  "cells": [
    {
      "cell_type": "code",
      "execution_count": 60,
      "metadata": {
        "id": "bjIZJcmzaOhx"
      },
      "outputs": [],
      "source": [
        "num1 = 0\n",
        "for num in range(num1):\n",
        "    if num <= 10:\n",
        "        break\n",
        "    num += 1\n",
        "    print(num)\n"
      ]
    },
    {
      "cell_type": "code",
      "source": [
        "l = [1,2,3,4,5,6,7,8,9,10]\n",
        "odd_l = [x for x in l if x%2 !=0]\n",
        "print(odd_l)"
      ],
      "metadata": {
        "id": "0jlJMu8QaT1b",
        "colab": {
          "base_uri": "https://localhost:8080/"
        },
        "outputId": "9cfcb3c2-8a1d-453f-c887-d6014a992a76"
      },
      "execution_count": 25,
      "outputs": [
        {
          "output_type": "stream",
          "name": "stdout",
          "text": [
            "[1, 3, 5, 7, 9]\n"
          ]
        }
      ]
    },
    {
      "cell_type": "code",
      "source": [
        "order = [1,2,3,4,5,6,7,8,9,10]\n",
        "order = order[::-1]\n",
        "print(order)"
      ],
      "metadata": {
        "colab": {
          "base_uri": "https://localhost:8080/"
        },
        "id": "N4d3UIidOllK",
        "outputId": "b8e3ee77-35e2-49b7-878a-d03a6e03811b"
      },
      "execution_count": 23,
      "outputs": [
        {
          "output_type": "stream",
          "name": "stdout",
          "text": [
            "[10, 9, 8, 7, 6, 5, 4, 3, 2, 1]\n"
          ]
        }
      ]
    },
    {
      "cell_type": "code",
      "source": [
        "string = \"\"\"ChatGPT has created this text to provide tips on creating interesting paragraphs.\n",
        "\tFirst, start with a clear topic sentence that introduces the main idea.\n",
        "\tThen, support the topic sentence with specific details, examples, and evidence.\n",
        "\tVary the sentence length and structure to keep the reader engaged.\n",
        "\tFinally, end with a strong concluding sentence that summarizes the main points.\n",
        "\tRemember, practice makes perfect!\"\"\"\n",
        "count = len(string)\n",
        "print(count)"
      ],
      "metadata": {
        "colab": {
          "base_uri": "https://localhost:8080/"
        },
        "id": "w6G_4i93O5z7",
        "outputId": "64345ab3-be0b-4f4a-e725-175953710684"
      },
      "execution_count": 36,
      "outputs": [
        {
          "output_type": "stream",
          "name": "stdout",
          "text": [
            "421\n"
          ]
        }
      ]
    },
    {
      "cell_type": "code",
      "source": [
        "word = 'rainbow'\n",
        "vowels = [char for char in word if char in 'aeiouAEIOU']\n",
        "print(vowels)"
      ],
      "metadata": {
        "colab": {
          "base_uri": "https://localhost:8080/"
        },
        "id": "2mAmVtZqXWGF",
        "outputId": "192dad04-7d64-4ae5-875b-7f694f345bb1"
      },
      "execution_count": 40,
      "outputs": [
        {
          "output_type": "stream",
          "name": "stdout",
          "text": [
            "['a', 'i', 'o']\n"
          ]
        }
      ]
    },
    {
      "cell_type": "code",
      "source": [
        "animals=['tiger', 'elephant', 'monkey', 'zebra', 'panther']\n",
        "for animal in animals:\n",
        "    print(animal.upper())"
      ],
      "metadata": {
        "colab": {
          "base_uri": "https://localhost:8080/"
        },
        "id": "WpQWM--TTtP2",
        "outputId": "d4b0b660-3075-4c74-f0a9-dc854e3425ec"
      },
      "execution_count": 42,
      "outputs": [
        {
          "output_type": "stream",
          "name": "stdout",
          "text": [
            "TIGER\n",
            "ELEPHANT\n",
            "MONKEY\n",
            "ZEBRA\n",
            "PANTHER\n"
          ]
        }
      ]
    },
    {
      "cell_type": "code",
      "source": [
        "for number in range(1,16):\n",
        " if number%2==0:\n",
        "  print (f\"number is even\")\n",
        " else:\n",
        "  print (f\"number is odd\")"
      ],
      "metadata": {
        "colab": {
          "base_uri": "https://localhost:8080/"
        },
        "id": "TeXM-2q91G9v",
        "outputId": "52c53b87-0967-4320-a19c-4f0a57405809"
      },
      "execution_count": 51,
      "outputs": [
        {
          "output_type": "stream",
          "name": "stdout",
          "text": [
            "number is odd\n",
            "number is even\n",
            "number is odd\n",
            "number is even\n",
            "number is odd\n",
            "number is even\n",
            "number is odd\n",
            "number is even\n",
            "number is odd\n",
            "number is even\n",
            "number is odd\n",
            "number is even\n",
            "number is odd\n",
            "number is even\n",
            "number is odd\n"
          ]
        }
      ]
    },
    {
      "cell_type": "code",
      "source": [
        "num1 = int(input(f\"Enter first number\"))\n",
        "num2 = int(input(f\"Enter second number\"))\n",
        "result = num1+num2\n",
        "print(result)\n"
      ],
      "metadata": {
        "colab": {
          "base_uri": "https://localhost:8080/"
        },
        "id": "wnUzlMjQ3Ta9",
        "outputId": "30852e63-02aa-4669-b966-d98f2e38f47c"
      },
      "execution_count": 52,
      "outputs": [
        {
          "output_type": "stream",
          "name": "stdout",
          "text": [
            "Enter first number5\n",
            "Enter second number10\n",
            "15\n"
          ]
        }
      ]
    },
    {
      "cell_type": "code",
      "source": [],
      "metadata": {
        "id": "N79WIjin5A99"
      },
      "execution_count": null,
      "outputs": []
    }
  ]
}